{
 "cells": [
  {
   "cell_type": "markdown",
   "id": "604e3e60-a48c-47ca-a2dd-25353206ecd6",
   "metadata": {},
   "source": [
    "# Library Management System"
   ]
  },
  {
   "cell_type": "markdown",
   "id": "4e8a35aa-bd2c-406e-aee6-4b399e32de8a",
   "metadata": {},
   "source": [
    "You are tasked with creating a Python program for a Library Management System that utilizes all the key concepts of Python, including control flow, functions, and object-oriented programming. The system should meet the following requirements"
   ]
  },
  {
   "cell_type": "markdown",
   "id": "9bde5a9b-4aea-4ce9-8fc4-1cd9e2e0aa0d",
   "metadata": {
    "jp-MarkdownHeadingCollapsed": true
   },
   "source": [
    "## Task Requirements"
   ]
  },
  {
   "cell_type": "markdown",
   "id": "6de810d2-19b0-4b3e-ac3a-7521ab97100a",
   "metadata": {},
   "source": [
    "1. **Data Representation**: Represent the library as a dictionary where keys are book titles, and values are the number of copies available."
   ]
  },
  {
   "cell_type": "code",
   "execution_count": 5,
   "id": "7f7657a4-7b3d-423f-a489-f3e0cb0f60b8",
   "metadata": {},
   "outputs": [],
   "source": [
    "# Example\n",
    "library = {\n",
    "    \"Python Basics\": 3,\n",
    "    \"Advanced Python\": 2,\n",
    "    \"Data Science\": 5\n",
    "}"
   ]
  },
  {
   "cell_type": "markdown",
   "id": "7442e7dd-fdb5-4d15-a1d7-a9ce7cca921f",
   "metadata": {},
   "source": [
    "2. **Search for a Book**: Create a function search_book(title) that checks if a book is available in the library"
   ]
  },
  {
   "cell_type": "code",
   "execution_count": 6,
   "id": "184f7fb9",
   "metadata": {},
   "outputs": [
    {
     "name": "stdout",
     "output_type": "stream",
     "text": [
      "True\n"
     ]
    }
   ],
   "source": [
    "def search_book(title):\n",
    "    for book in library.keys():\n",
    "        if book == title:\n",
    "            return library[book] > 0\n",
    "    return \"Book not found in the library.\"\n",
    "\n",
    "print(search_book(\"Python Basics\"))\n"
   ]
  },
  {
   "cell_type": "markdown",
   "id": "d89f6e28-e37e-43d5-a4c3-019f872264a3",
   "metadata": {},
   "source": [
    "3. **Borrow a Book**: Create a function borrow_book(title) that:\n",
    "   * Reduces the book count by 1 if the book is available.\n",
    "   * Displays an appropriate message if the book is out of stock."
   ]
  },
  {
   "cell_type": "code",
   "execution_count": 7,
   "id": "b34bbff1",
   "metadata": {},
   "outputs": [
    {
     "name": "stdout",
     "output_type": "stream",
     "text": [
      "['Python Basics']\n",
      "the remaining number of books 2\n",
      "Book 'Python Basics' borrowed successfully.\n"
     ]
    }
   ],
   "source": [
    "def borrow_book(title):\n",
    "    borrowed_books =[]\n",
    "    for book in library.keys():\n",
    "        if book == title:\n",
    "            if library[book] > 0:\n",
    "                library[book]-= 1\n",
    "                borrowed_books.append(title)\n",
    "                print (borrowed_books)\n",
    "                print (f\"the remaining number of books {library[book]}\") \n",
    "                return f\"Book '{title}' borrowed successfully.\"\n",
    "            else:\n",
    "                return f\"Book '{title}' is out of stock.\"\n",
    "\n",
    "print(borrow_book(\"Python Basics\"))"
   ]
  },
  {
   "cell_type": "markdown",
   "id": "222bceef-4e67-4f79-8e91-0b629ad41d88",
   "metadata": {},
   "source": [
    "4. **Add a New Book**: Create a function add_book(title, copies) that:\n",
    "   * Adds a new book to the library or updates the count if the book already exists."
   ]
  },
  {
   "cell_type": "code",
   "execution_count": 8,
   "id": "de8f0695",
   "metadata": {},
   "outputs": [
    {
     "name": "stdout",
     "output_type": "stream",
     "text": [
      "{'Python Basics': 2, 'Advanced Python': 2, 'Data Science': 5}\n"
     ]
    }
   ],
   "source": [
    "def add_book(title, copies):\n",
    "    if title in library:\n",
    "        library[title] += copies\n",
    "    else:\n",
    "        library[title] = copies\n",
    "    print(f\"Book '{title}' added successfully with {copies} copies.\")\n",
    "\n",
    "print(library)"
   ]
  },
  {
   "cell_type": "markdown",
   "id": "9dd78650-a00d-4335-a93a-f340f61d29a0",
   "metadata": {},
   "source": [
    "5. **Track Borrowed Books**: Use a dictionary to track borrowed books for each user."
   ]
  },
  {
   "cell_type": "code",
   "execution_count": 9,
   "id": "776801fc-fabc-4af4-84a1-314ba18bb104",
   "metadata": {},
   "outputs": [],
   "source": [
    "# Example:\n",
    "borrowed_books = {\n",
    "    \"Alice\": [\"Python Basics\"],\n",
    "    \"Bob\": [\"Data Science\"]\n",
    "}\n",
    "\n"
   ]
  },
  {
   "cell_type": "code",
   "execution_count": 10,
   "id": "1a10e72f",
   "metadata": {},
   "outputs": [
    {
     "name": "stdout",
     "output_type": "stream",
     "text": [
      "{'mido': 'Python Basics'}\n",
      "the remaining number of books 1\n",
      "Book 'Python Basics' borrowed successfully.\n"
     ]
    }
   ],
   "source": [
    "def borrow_book(user,title ):\n",
    "    borrowed_books ={}\n",
    "    for book in library.keys():\n",
    "        if book == title:\n",
    "            if library[book] > 0:\n",
    "                library[book]-= 1\n",
    "                borrowed_books[user]=book\n",
    "                print (borrowed_books)\n",
    "                print (f\"the remaining number of books {library[book]}\") \n",
    "                return f\"Book '{title}' borrowed successfully.\"\n",
    "            else:\n",
    "                return f\"Book '{title}' is out of stock.\"\n",
    "\n",
    "print(borrow_book(\"mido\",\"Python Basics\"))"
   ]
  },
  {
   "cell_type": "markdown",
   "id": "06d83c6e-8e9c-41b9-8a78-461e04af4b45",
   "metadata": {},
   "source": [
    "6. **User Authentication**: Implement a basic user login system with a dictionary of usernames and passwords"
   ]
  },
  {
   "cell_type": "code",
   "execution_count": 11,
   "id": "e1873a01",
   "metadata": {},
   "outputs": [
    {
     "data": {
      "text/plain": [
       "True"
      ]
     },
     "execution_count": 11,
     "metadata": {},
     "output_type": "execute_result"
    }
   ],
   "source": [
    "users={\n",
    "    \"Alice\": {\"password\": \"123456\", \"role\": \"admin\"},\n",
    "    \"Bob\": {\"password\": \"654321\", \"role\": \"user\"},\n",
    "    \"mido\": {\"password\": \"755484\", \"role\": \"user\"}\n",
    "}\n",
    "def login(username, password):\n",
    "    if username in users and users[username][\"password\"] == str(password):\n",
    "        return True\n",
    "    return False\n",
    "login(\"mido\",755484)\n",
    "    "
   ]
  },
  {
   "cell_type": "markdown",
   "id": "5aeb697b-1648-47ae-bea2-df5ae3ff243b",
   "metadata": {},
   "source": [
    "7. **Object-Oriented Design**: Convert the system into a class-based design with the following:\n",
    "   * Class Library:\n",
    "     * **Attributes**: books (dictionary), borrowed_books (dictionary).\n",
    "     * **Methods**: search_book, borrow_book, add_book, and return_book.\n",
    "   * Class User:\n",
    "     * **Attributes**: username, borrowed_books.\n",
    "     * **Methods**: borrow_book, return_book."
   ]
  },
  {
   "cell_type": "code",
   "execution_count": 1,
   "id": "d20aa53a",
   "metadata": {},
   "outputs": [],
   "source": [
    "class Book_library():\n",
    "    def __init__(self):\n",
    "        self.library = {\n",
    "    \"Python Basics\": 3,\n",
    "    \"Advanced Python\": 2,\n",
    "    \"Data Science\": 5\n",
    "}\n",
    "        self.borrowed_books = {}\n",
    "    \n",
    "    def search_book(title):\n",
    "        for book in library.keys():\n",
    "            if book == title:\n",
    "\n",
    "                return library[book] > 0 and print(search_book(\"Python Basics\"))\n",
    "\n",
    "        return \"Book not found in the library.\"\n",
    "    def add_book(title, copies):\n",
    "        if title in library:\n",
    "            library[title] += copies\n",
    "        else:\n",
    "            library[title] = copies\n",
    "        print(f\"Book '{title}' added successfully with {copies} copies.\")\n",
    "\n",
    "    "
   ]
  },
  {
   "cell_type": "markdown",
   "id": "d26f4ac2-68cf-4935-a8a8-e8e5137af073",
   "metadata": {},
   "source": [
    "8. **Polymorphism**: Use method overriding to allow different types of users (e.g., Student and Teacher) to borrow a different maximum number of books."
   ]
  },
  {
   "cell_type": "code",
   "execution_count": null,
   "id": "aa7e089b",
   "metadata": {},
   "outputs": [],
   "source": [
    "def borrow_book(user,title ):\n",
    "    borrowed_books ={}\n",
    "    for book in library.keys():\n",
    "        if book == title:\n",
    "            if library[book] > 0:\n",
    "                library[book]-= 1\n",
    "                borrowed_books[user]=book\n",
    "                print (borrowed_books)\n",
    "                print (f\"the remaining number of books {library[book]}\") \n",
    "                return f\"Book '{title}' borrowed successfully.\"\n",
    "            else:\n",
    "                return f\"Book '{title}' is out of stock.\"\n",
    "\n",
    "print(borrow_book(\"mido\",\"Python Basics\"))"
   ]
  },
  {
   "cell_type": "markdown",
   "id": "671acf38-89fa-46b3-ade9-6a6a28962d7d",
   "metadata": {},
   "source": [
    "9. **Multiple Inheritance**: Add a Member class for common user attributes and demonstrate multiple inheritance in creating Student and Teacher classes."
   ]
  },
  {
   "cell_type": "code",
   "execution_count": null,
   "id": "503a2fb7",
   "metadata": {},
   "outputs": [],
   "source": [
    "from abc import ABC\n",
    "class user (ABC):\n",
    "    def __init__(self, username, role, max_borrowed_books):\n",
    "        self.username = username\n",
    "        self.role = role\n",
    "        self.max_borrowed_books= max_borrowed_books \n",
    "        self.borrowed_books = []\n",
    "    \n",
    "    def borrow_book(self, title):\n",
    "        if len(self.borrowed_books) >= self.max_borrowed_books:\n",
    "            return \"You have reached your maximum borrowed books limit.\"\n",
    "        for book in self.borrowed_books:\n",
    "            if book == title:\n",
    "                return f\"You already borrowed '{title}'.\"\n",
    "        if title in library and library[title] > 0:\n",
    "            self.borrowed_books.append(title)\n",
    "            library[title] -= 1\n",
    "            return f\"Book '{title}' borrowed successfully!\"\n",
    "        else:\n",
    "            return \"Book not found in the library or out of stock.\"\n",
    "    def return_book(self, title):\n",
    "        if title in self.borrowed_books:\n",
    "            self.borrowed_books.remove(title)\n",
    "            library[title] += 1\n",
    "            return f\"Book '{title}' returned successfully!\"\n",
    "\n",
    "class Student(user):\n",
    "    def __init__(self, username, role, max_borrowed_books):\n",
    "        super().__init__(username, role,borrowed_books, max_borrowed_books)\n",
    "    \n",
    "    def borrow_book(self, title):\n",
    "        return super().borrow_book(title)\n",
    "    def return_book(self, title):\n",
    "        return super().return_book(title)\n",
    "    def get_info(self):\n",
    "        return f\"Student: {self.username}, Role: {self.role}, Borrowed Books: {self.borrowed_books}\"\n",
    "    def get_borrowed_books(self):\n",
    "        return self.borrowed_books\n",
    "\n",
    "class Teacher(user):\n",
    "    def __init__(self, username, role, max_borrowed_books):\n",
    "        super().__init__(username, role, max_borrowed_books, max_borrowed_books)\n",
    "    \n",
    "    def borrow_book(self, title):\n",
    "        return super().borrow_book(title)\n",
    "    def return_book(self, title):\n",
    "        return super().return_book(title)\n",
    "    def get_info(self):\n",
    "        return f\"Teacher: {self.username}, Role: {self.role}, Borrowed Books: {self.borrowed_books}\"\n",
    "    def get_borrowed_books(self):\n",
    "        return self.borrowed_books\n",
    "    "
   ]
  },
  {
   "cell_type": "markdown",
   "id": "bb867fb8-e417-4a43-977f-204f413bb699",
   "metadata": {},
   "source": [
    "10. **Abstraction**: Use the abc module to define an abstract class UserBase with abstract methods borrow_book and return_book."
   ]
  },
  {
   "cell_type": "markdown",
   "id": "c95eb6e3-fd23-48a3-881c-b972fa679966",
   "metadata": {
    "jp-MarkdownHeadingCollapsed": true
   },
   "source": [
    "## Expected Output and Behavior"
   ]
  },
  {
   "cell_type": "markdown",
   "id": "bfda48b9-3c39-4c8e-9272-ecbd35e29e2d",
   "metadata": {},
   "source": [
    "**1. The program should allow users to**:\n",
    "   * Login with their credentials.\n",
    "   * Search for books in the library.\n",
    "   * Borrow and return books.\n",
    "   * Admins should be able to add new books.\n",
    "     \n",
    "**2. Ensure proper error handling (e.g., invalid inputs, books out of stock, invalid login).**"
   ]
  },
  {
   "cell_type": "markdown",
   "id": "617f6a1d-b30d-45fe-a943-e76a85da5f32",
   "metadata": {},
   "source": [
    "**3. Example interaction:**"
   ]
  },
  {
   "cell_type": "markdown",
   "id": "97e797df-7472-498f-8ce2-73f12ad15938",
   "metadata": {},
   "source": [
    "Welcome to the Library Management System!\n",
    "* Enter your username: Alice\n",
    "* Enter your password: ****\n",
    "* Login successful!\n",
    "\n",
    "Menu:\n",
    "1. Search for a book\n",
    "2. Borrow a book\n",
    "3. Return a book\n",
    "4. Add a new book (admin only)\n",
    "5. Exit\n",
    "\n",
    "* Enter your choice: 2\n",
    "* Enter the book title: Python Basics\n",
    "> Borrowed successfully! Remaining copies: 2"
   ]
  },
  {
   "cell_type": "markdown",
   "id": "4d636f13-ce40-4dab-9c6f-e993da5c9442",
   "metadata": {
    "jp-MarkdownHeadingCollapsed": true
   },
   "source": [
    "## Implementation Hints"
   ]
  },
  {
   "cell_type": "markdown",
   "id": "fc038c6b-a333-41fb-a0d2-6bbacd23b0ee",
   "metadata": {},
   "source": [
    "* Use **dictionaries** for data storage.\n",
    "* Use **functions** for modular code.\n",
    "* Use **OOP** for scalability.\n",
    "* Include **control flow** to manage user interactions."
   ]
  },
  {
   "cell_type": "markdown",
   "id": "8820cafd-8405-46ce-9e53-a5bf35a1c3ed",
   "metadata": {
    "jp-MarkdownHeadingCollapsed": true
   },
   "source": [
    "# Submit and Showcase Your Project"
   ]
  },
  {
   "cell_type": "code",
   "execution_count": null,
   "id": "1b7252b7-8c0a-4eae-8880-ecc8dccbe0d9",
   "metadata": {},
   "outputs": [],
   "source": []
  }
 ],
 "metadata": {
  "kernelspec": {
   "display_name": "Python 3",
   "language": "python",
   "name": "python3"
  },
  "language_info": {
   "codemirror_mode": {
    "name": "ipython",
    "version": 3
   },
   "file_extension": ".py",
   "mimetype": "text/x-python",
   "name": "python",
   "nbconvert_exporter": "python",
   "pygments_lexer": "ipython3",
   "version": "3.12.8"
  }
 },
 "nbformat": 4,
 "nbformat_minor": 5
}
